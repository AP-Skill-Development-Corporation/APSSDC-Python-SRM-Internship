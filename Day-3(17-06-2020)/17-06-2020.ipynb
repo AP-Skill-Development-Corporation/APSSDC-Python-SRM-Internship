{
 "cells": [
  {
   "cell_type": "markdown",
   "metadata": {},
   "source": [
    "# Markdown Formats:"
   ]
  },
  {
   "cell_type": "markdown",
   "metadata": {},
   "source": [
    "# First Heading\n",
    "## Second Heading\n",
    "####### Seventh Heading"
   ]
  },
  {
   "cell_type": "markdown",
   "metadata": {},
   "source": [
    "👍🤔😆😃👀😊😊"
   ]
  },
  {
   "cell_type": "code",
   "execution_count": 6,
   "metadata": {},
   "outputs": [
    {
     "data": {
      "text/plain": [
       "45"
      ]
     },
     "execution_count": 6,
     "metadata": {},
     "output_type": "execute_result"
    }
   ],
   "source": [
    "a = 45\n",
    "a"
   ]
  },
  {
   "cell_type": "code",
   "execution_count": 9,
   "metadata": {},
   "outputs": [
    {
     "data": {
      "text/plain": [
       "(67, 34)"
      ]
     },
     "execution_count": 9,
     "metadata": {},
     "output_type": "execute_result"
    }
   ],
   "source": [
    "a = 67\n",
    "b = 34\n",
    "a,b "
   ]
  },
  {
   "cell_type": "code",
   "execution_count": 18,
   "metadata": {},
   "outputs": [
    {
     "name": "stdout",
     "output_type": "stream",
     "text": [
      "78 <class 'str'>\n",
      "56 <class 'int'>\n"
     ]
    }
   ],
   "source": [
    "a,b = '78',56\n",
    "print(a,type(a))\n",
    "print(b,type(b))"
   ]
  },
  {
   "cell_type": "markdown",
   "metadata": {},
   "source": [
    "```\n",
    "Input: \n",
    "    -> Print\n",
    "    -> reading values\n",
    "    a = input(\"Enter a number: \")\n",
    "    a = ?\n",
    "    ```"
   ]
  },
  {
   "cell_type": "markdown",
   "metadata": {},
   "source": [
    "```\n",
    "Output: \n",
    "\n",
    "    8 5\n",
    "    Addition of 8 and 5 is: 13\n",
    "        \n",
    "    -> %\n",
    "    -> .format\n",
    "    -> ,\n",
    "    ```"
   ]
  },
  {
   "cell_type": "code",
   "execution_count": 25,
   "metadata": {},
   "outputs": [
    {
     "name": "stdout",
     "output_type": "stream",
     "text": [
      "3\n",
      "1\n",
      "Addition of 3 and 1 is: 4\n",
      "Substraction of 3 and 1 is: 2\n",
      "Multiplication of 1 and 3 is: 3\n"
     ]
    }
   ],
   "source": [
    "n = int(input())\n",
    "m = int(input())\n",
    "print(\"Addition of\",n,\"and\",m,\"is:\",n+m)\n",
    "print(\"Substraction of %d and %d is: %d\"%(n,m,n-m))\n",
    "print(\"Multiplication of {1} and {0} is: {2}\".format(n,m,n*m))"
   ]
  },
  {
   "cell_type": "markdown",
   "metadata": {},
   "source": [
    "```\n",
    "Input: 11\n",
    "Output:\n",
    "        AP1811001001\n",
    "        AP1811001002\n",
    "        |          |\n",
    "        AP1811001011\n",
    "        ```"
   ]
  },
  {
   "cell_type": "markdown",
   "metadata": {},
   "source": [
    "```\n",
    "Conditional Statements:\n",
    "====================\n",
    "\n",
    "    - For checking we are using conditional statements\n",
    "    - if -> Single case\n",
    "        Syntax:\n",
    "            if condition: () -> optional\n",
    "                //stmnt\n",
    "                \n",
    "    - if-else -> Two cases\n",
    "        Syntax:\n",
    "            if condition-1: () -> optional\n",
    "                //stmnt-1\n",
    "            else:\n",
    "                //stmnt-2\n",
    "                \n",
    "    - nested if -> Two or more cases\n",
    "        Syntax:\n",
    "            if condition-1: ()-> optional\n",
    "                //stmnt-1\n",
    "                if condition-2:\n",
    "                    //stmnt-2\n",
    "                    |       |\n",
    "                nested if or elif or if-else\n",
    "            else:\n",
    "                //stmnt -> optional\n",
    "    - elif -> 3 or more cases\n",
    "        Syntax:\n",
    "            if condition-1:\n",
    "                //stmnt-1\n",
    "            elif condition-2:\n",
    "                //stmnt-2\n",
    "            elif condition-n:\n",
    "                //stmnt-n\n",
    "            else:\n",
    "                //stmnt-n-1\n",
    "   ```"
   ]
  },
  {
   "cell_type": "code",
   "execution_count": 32,
   "metadata": {},
   "outputs": [
    {
     "name": "stdout",
     "output_type": "stream",
     "text": [
      "11\n",
      "AP1811001001\n",
      "AP1811001002\n",
      "AP1811001003\n",
      "AP1811001004\n",
      "AP1811001005\n",
      "AP1811001006\n",
      "AP1811001007\n",
      "AP1811001008\n",
      "AP1811001009\n",
      "AP1811001010\n",
      "AP1811001011\n"
     ]
    }
   ],
   "source": [
    "n = int(input())\n",
    "for i in range(1,n+1):\n",
    "    if i<=9:\n",
    "        print(\"AP181100100\"+str(i))\n",
    "    else:\n",
    "        print(\"AP18110010\"+str(i))"
   ]
  },
  {
   "cell_type": "code",
   "execution_count": 42,
   "metadata": {},
   "outputs": [
    {
     "name": "stdout",
     "output_type": "stream",
     "text": [
      "10\n",
      "02\n",
      "03\n",
      "04\n",
      "05\n",
      "06\n",
      "07\n",
      "08\n",
      "09\n",
      "10\n",
      "11\n"
     ]
    }
   ],
   "source": [
    "n = int(input())\n",
    "for j in range(1,n+1):\n",
    "    print(\"{:02}\".format(j+1))"
   ]
  },
  {
   "cell_type": "code",
   "execution_count": null,
   "metadata": {},
   "outputs": [],
   "source": []
  }
 ],
 "metadata": {
  "kernelspec": {
   "display_name": "Python 3",
   "language": "python",
   "name": "python3"
  },
  "language_info": {
   "codemirror_mode": {
    "name": "ipython",
    "version": 3
   },
   "file_extension": ".py",
   "mimetype": "text/x-python",
   "name": "python",
   "nbconvert_exporter": "python",
   "pygments_lexer": "ipython3",
   "version": "3.7.3"
  }
 },
 "nbformat": 4,
 "nbformat_minor": 2
}
