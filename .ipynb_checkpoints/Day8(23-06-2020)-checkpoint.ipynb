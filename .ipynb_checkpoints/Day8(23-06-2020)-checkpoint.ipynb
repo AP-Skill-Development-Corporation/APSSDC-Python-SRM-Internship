{
 "cells": [
  {
   "cell_type": "markdown",
   "metadata": {},
   "source": [
    "### Good Morning All:"
   ]
  },
  {
   "cell_type": "markdown",
   "metadata": {},
   "source": [
    "### task2\n",
    "#### contact application\n",
    "    - create a function for contact creation\n",
    "        - name,mobile number,emilid\n",
    "    - generate a funtion for view all contacts\n",
    "    - function for edit contacts\n",
    "        - enter name\n",
    "    - function for delete contact\n",
    "        - enter name"
   ]
  },
  {
   "cell_type": "code",
   "execution_count": 4,
   "metadata": {},
   "outputs": [],
   "source": [
    "cont = {}\n",
    "# Create contact\n",
    "def create_contact():\n",
    "    Name = input(\"Enter Name:\")\n",
    "    mobileNo = input(\"Enter mobile no:\")\n",
    "    mailId = input(\"Enter Mail Id\")\n",
    "    cont['name']=Name\n",
    "    cont['mobileno']=mobileNo\n",
    "    cont['mailid']=mailId\n",
    "    return \"Done\"\n",
    "    "
   ]
  },
  {
   "cell_type": "code",
   "execution_count": 5,
   "metadata": {
    "scrolled": true
   },
   "outputs": [
    {
     "name": "stdout",
     "output_type": "stream",
     "text": [
      "Enter Name:abdul\n",
      "Enter mobile no:8956230147\n",
      "Enter Mail Idbaduh@kfdghkdf\n"
     ]
    },
    {
     "data": {
      "text/plain": [
       "'Done'"
      ]
     },
     "execution_count": 5,
     "metadata": {},
     "output_type": "execute_result"
    }
   ],
   "source": [
    "create_contact()"
   ]
  },
  {
   "cell_type": "code",
   "execution_count": 30,
   "metadata": {},
   "outputs": [
    {
     "data": {
      "text/plain": [
       "{'mailid': 'baduh@kfdghkdf', 'mobileno': '8956230147', 'name': 'abdul'}"
      ]
     },
     "execution_count": 30,
     "metadata": {},
     "output_type": "execute_result"
    }
   ],
   "source": [
    "cont"
   ]
  },
  {
   "cell_type": "code",
   "execution_count": 33,
   "metadata": {},
   "outputs": [],
   "source": [
    "def display(li1):\n",
    "    print('Name:',li1['name'])\n",
    "    print('Mobile Number:',li1['mobileno'])"
   ]
  },
  {
   "cell_type": "code",
   "execution_count": 34,
   "metadata": {},
   "outputs": [
    {
     "name": "stdout",
     "output_type": "stream",
     "text": [
      "Name: abdul\n",
      "Mobile Number: 8956230147\n"
     ]
    }
   ],
   "source": [
    "\n",
    "display(cont)"
   ]
  },
  {
   "cell_type": "code",
   "execution_count": 48,
   "metadata": {},
   "outputs": [],
   "source": [
    "def editContact(name,cont):\n",
    "    for rec in cont:\n",
    "        if rec['name']==name:\n",
    "            print(\"hi \",name)\n",
    "            mbno = input(\"Enter ur new mobile no:\")\n",
    "            \n",
    "            rec['name']=mbno\n",
    "            return cont\n",
    "    return \"Contact not existed\""
   ]
  },
  {
   "cell_type": "code",
   "execution_count": 77,
   "metadata": {},
   "outputs": [],
   "source": [
    "cont = [\n",
    "    {'name':'abdul','mobileno':'8956230147'},\n",
    "    {'name':'abdulla','mobileno':'8956230148'},\n",
    "    {'name':'abdul shaik','mobileno':'8956230149'}\n",
    "]\n",
    "#editContact('abdulla',cont)"
   ]
  },
  {
   "cell_type": "code",
   "execution_count": 78,
   "metadata": {},
   "outputs": [],
   "source": [
    "def deleteCont(name,cont):\n",
    "    for rec in cont:\n",
    "        if rec['name']==name:\n",
    "            rec.pop('name')\n",
    "            rec.pop('mobileno')\n",
    "            \n",
    "            return cont\n",
    "    return 'cont not existed'"
   ]
  },
  {
   "cell_type": "code",
   "execution_count": 79,
   "metadata": {},
   "outputs": [
    {
     "ename": "TypeError",
     "evalue": "list indices must be integers or slices, not dict",
     "output_type": "error",
     "traceback": [
      "\u001b[1;31m---------------------------------------------------------------------------\u001b[0m",
      "\u001b[1;31mTypeError\u001b[0m                                 Traceback (most recent call last)",
      "\u001b[1;32m<ipython-input-79-42b337580642>\u001b[0m in \u001b[0;36m<module>\u001b[1;34m()\u001b[0m\n\u001b[1;32m----> 1\u001b[1;33m \u001b[0mdeleteCont\u001b[0m\u001b[1;33m(\u001b[0m\u001b[1;34m'abdul shaik'\u001b[0m\u001b[1;33m,\u001b[0m\u001b[0mcont\u001b[0m\u001b[1;33m)\u001b[0m\u001b[1;33m\u001b[0m\u001b[0m\n\u001b[0m",
      "\u001b[1;32m<ipython-input-78-92d86251264e>\u001b[0m in \u001b[0;36mdeleteCont\u001b[1;34m(name, cont)\u001b[0m\n\u001b[0;32m      2\u001b[0m     \u001b[1;32mfor\u001b[0m \u001b[0mrec\u001b[0m \u001b[1;32min\u001b[0m \u001b[0mcont\u001b[0m\u001b[1;33m:\u001b[0m\u001b[1;33m\u001b[0m\u001b[0m\n\u001b[0;32m      3\u001b[0m         \u001b[1;32mif\u001b[0m \u001b[0mrec\u001b[0m\u001b[1;33m[\u001b[0m\u001b[1;34m'name'\u001b[0m\u001b[1;33m]\u001b[0m\u001b[1;33m==\u001b[0m\u001b[0mname\u001b[0m\u001b[1;33m:\u001b[0m\u001b[1;33m\u001b[0m\u001b[0m\n\u001b[1;32m----> 4\u001b[1;33m             \u001b[1;32mdel\u001b[0m \u001b[0mcont\u001b[0m\u001b[1;33m[\u001b[0m\u001b[0mrec\u001b[0m\u001b[1;33m]\u001b[0m\u001b[1;33m\u001b[0m\u001b[0m\n\u001b[0m\u001b[0;32m      5\u001b[0m \u001b[1;33m\u001b[0m\u001b[0m\n\u001b[0;32m      6\u001b[0m             \u001b[1;32mreturn\u001b[0m \u001b[0mcont\u001b[0m\u001b[1;33m\u001b[0m\u001b[0m\n",
      "\u001b[1;31mTypeError\u001b[0m: list indices must be integers or slices, not dict"
     ]
    }
   ],
   "source": [
    "deleteCont('abdul shaik',cont)"
   ]
  },
  {
   "cell_type": "code",
   "execution_count": null,
   "metadata": {},
   "outputs": [],
   "source": []
  }
 ],
 "metadata": {
  "kernelspec": {
   "display_name": "Python 3",
   "language": "python",
   "name": "python3"
  },
  "language_info": {
   "codemirror_mode": {
    "name": "ipython",
    "version": 3
   },
   "file_extension": ".py",
   "mimetype": "text/x-python",
   "name": "python",
   "nbconvert_exporter": "python",
   "pygments_lexer": "ipython3",
   "version": "3.6.4"
  }
 },
 "nbformat": 4,
 "nbformat_minor": 2
}
