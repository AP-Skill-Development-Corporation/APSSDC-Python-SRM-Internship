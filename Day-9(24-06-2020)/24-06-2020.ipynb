{
 "cells": [
  {
   "cell_type": "markdown",
   "metadata": {},
   "source": [
    "# Good Morning to All"
   ]
  },
  {
   "cell_type": "markdown",
   "metadata": {},
   "source": [
    "# Files\n"
   ]
  },
  {
   "cell_type": "markdown",
   "metadata": {},
   "source": [
    "```\n",
    "    -> For premanent storage\n",
    "        .doc,\n",
    "        .jpg,\n",
    "        .csv,\n",
    "        .text,\n",
    "        .html,\n",
    "        .png,\n",
    "        .mp4,\n",
    "        .mp3, => binary formats\n",
    "\n",
    "syntax:\n",
    "    objname = open('...','mode','buffsize')\n",
    "        //stmnts\n",
    "    objname.close()\n",
    "    \n",
    "syntax:\n",
    "    \n",
    "    with open('...','mode') as filehandler:\n",
    "        filehadler.()\n",
    "        //stmnts\n",
    "    ```\n",
    "    "
   ]
  },
  {
   "cell_type": "markdown",
   "metadata": {},
   "source": [
    "```\n",
    "Mode:\n",
    "    - r -> reading a file,It reads the content in a file\n",
    "    - w -> writing to a file, If file doesnt exists in a particular location\n",
    "           it automatically creates a file with our filename, It erases \n",
    "           the previous data and it fetches the present data to a file\n",
    "    - a -> appending to a file, If file doesnt exists in a particular \n",
    "           location it automatically creates a file with our filename,\n",
    "           It allows the previos data and new data will be inserted below \n",
    "           previous data. \n",
    "    - x -> For checking the file whether the file doesnt exists in a \n",
    "           particular location or not. If doesnt exists then automatically\n",
    "           it creates a file\n",
    "    - + -> It defines the permissions whether to use 2 operations i.e., \n",
    "           read or write\n",
    "    - ab -> appendmode with binary format of data    \n",
    "    ```"
   ]
  },
  {
   "cell_type": "code",
   "execution_count": 16,
   "metadata": {},
   "outputs": [],
   "source": [
    "d = 'Datafiles/sample1.text'\n",
    "with open(d,'w') as er:\n",
    "    er.write(\"Good Morning to All\\n\")\n",
    "    er.write(\"Welcome\")"
   ]
  },
  {
   "cell_type": "code",
   "execution_count": 13,
   "metadata": {},
   "outputs": [
    {
     "name": "stdout",
     "output_type": "stream",
     "text": [
      "['_CHUNK_SIZE', '__class__', '__del__', '__delattr__', '__dict__', '__dir__', '__doc__', '__enter__', '__eq__', '__exit__', '__format__', '__ge__', '__getattribute__', '__getstate__', '__gt__', '__hash__', '__init__', '__init_subclass__', '__iter__', '__le__', '__lt__', '__ne__', '__new__', '__next__', '__reduce__', '__reduce_ex__', '__repr__', '__setattr__', '__sizeof__', '__str__', '__subclasshook__', '_checkClosed', '_checkReadable', '_checkSeekable', '_checkWritable', '_finalizing', 'buffer', 'close', 'closed', 'detach', 'encoding', 'errors', 'fileno', 'flush', 'isatty', 'line_buffering', 'mode', 'name', 'newlines', 'read', 'readable', 'readline', 'readlines', 'reconfigure', 'seek', 'seekable', 'tell', 'truncate', 'writable', 'write', 'write_through', 'writelines']\n"
     ]
    }
   ],
   "source": [
    "print(dir(er))"
   ]
  },
  {
   "cell_type": "code",
   "execution_count": 22,
   "metadata": {},
   "outputs": [
    {
     "ename": "FileExistsError",
     "evalue": "[Errno 17] File exists: 'Datafiles/sample.text'",
     "output_type": "error",
     "traceback": [
      "\u001b[1;31m---------------------------------------------------------------------------\u001b[0m",
      "\u001b[1;31mFileExistsError\u001b[0m                           Traceback (most recent call last)",
      "\u001b[1;32m<ipython-input-22-44e5276d0f0c>\u001b[0m in \u001b[0;36m<module>\u001b[1;34m\u001b[0m\n\u001b[0;32m      1\u001b[0m \u001b[0mp\u001b[0m \u001b[1;33m=\u001b[0m \u001b[1;34m'Datafiles/sample.text'\u001b[0m\u001b[1;33m\u001b[0m\u001b[1;33m\u001b[0m\u001b[0m\n\u001b[1;32m----> 2\u001b[1;33m \u001b[1;32mwith\u001b[0m \u001b[0mopen\u001b[0m\u001b[1;33m(\u001b[0m\u001b[0mp\u001b[0m\u001b[1;33m,\u001b[0m\u001b[1;34m'x'\u001b[0m\u001b[1;33m)\u001b[0m \u001b[1;32mas\u001b[0m \u001b[0mrg\u001b[0m\u001b[1;33m:\u001b[0m\u001b[1;33m\u001b[0m\u001b[1;33m\u001b[0m\u001b[0m\n\u001b[0m\u001b[0;32m      3\u001b[0m     \u001b[0mrg\u001b[0m\u001b[1;33m.\u001b[0m\u001b[0mwrite\u001b[0m\u001b[1;33m(\u001b[0m\u001b[1;34m\"Hello\"\u001b[0m\u001b[1;33m)\u001b[0m\u001b[1;33m\u001b[0m\u001b[1;33m\u001b[0m\u001b[0m\n",
      "\u001b[1;31mFileExistsError\u001b[0m: [Errno 17] File exists: 'Datafiles/sample.text'"
     ]
    }
   ],
   "source": [
    "p = 'Datafiles/sample.text'\n",
    "with open(p,'x') as rg:\n",
    "    rg.write(\"Hello\")"
   ]
  },
  {
   "cell_type": "code",
   "execution_count": 32,
   "metadata": {},
   "outputs": [
    {
     "name": "stdout",
     "output_type": "stream",
     "text": [
      "['Good Morning to All\\n', 'Welcome'] <class 'list'>\n"
     ]
    }
   ],
   "source": [
    "e = 'Datafiles/sample1.text'\n",
    "with open(e,'r') as ty:\n",
    "    k = ty.readlines()\n",
    "    print(k,type(k))"
   ]
  },
  {
   "cell_type": "markdown",
   "metadata": {},
   "source": [
    "```\n",
    "    Reading format methods\n",
    "     - read() -> It displays all the content in string format\n",
    "     - readline() -> It displays particular line with strinng data type\n",
    "     - readlines() -> It displays all the data in list format but the \n",
    "     type in list items are string\n",
    " ```"
   ]
  },
  {
   "cell_type": "code",
   "execution_count": 37,
   "metadata": {},
   "outputs": [],
   "source": [
    "with open('Datafiles/first.text','a') as rp:\n",
    "    rp.write(\"Sample in append mode\\n\")\n",
    "#     print(rp.readline())"
   ]
  },
  {
   "cell_type": "code",
   "execution_count": 41,
   "metadata": {},
   "outputs": [
    {
     "ename": "FileExistsError",
     "evalue": "[Errno 17] File exists: 'Datafiles/second2.text'",
     "output_type": "error",
     "traceback": [
      "\u001b[1;31m---------------------------------------------------------------------------\u001b[0m",
      "\u001b[1;31mFileExistsError\u001b[0m                           Traceback (most recent call last)",
      "\u001b[1;32m<ipython-input-41-89cc808d5414>\u001b[0m in \u001b[0;36m<module>\u001b[1;34m\u001b[0m\n\u001b[1;32m----> 1\u001b[1;33m \u001b[1;32mwith\u001b[0m \u001b[0mopen\u001b[0m\u001b[1;33m(\u001b[0m\u001b[1;34m'Datafiles/second2.text'\u001b[0m\u001b[1;33m,\u001b[0m\u001b[1;34m'x'\u001b[0m\u001b[1;33m)\u001b[0m \u001b[1;32mas\u001b[0m \u001b[0mfe\u001b[0m\u001b[1;33m:\u001b[0m\u001b[1;33m\u001b[0m\u001b[1;33m\u001b[0m\u001b[0m\n\u001b[0m\u001b[0;32m      2\u001b[0m     \u001b[0mfe\u001b[0m\u001b[1;33m.\u001b[0m\u001b[0mwrite\u001b[0m\u001b[1;33m(\u001b[0m\u001b[1;34m\"Sai kiran\"\u001b[0m\u001b[1;33m)\u001b[0m\u001b[1;33m\u001b[0m\u001b[1;33m\u001b[0m\u001b[0m\n",
      "\u001b[1;31mFileExistsError\u001b[0m: [Errno 17] File exists: 'Datafiles/second2.text'"
     ]
    }
   ],
   "source": [
    "with open('Datafiles/second2.text','x') as fe:\n",
    "    fe.write(\"Sai kiran\")"
   ]
  },
  {
   "cell_type": "code",
   "execution_count": null,
   "metadata": {},
   "outputs": [],
   "source": [
    "create a text file -> Input.text\n",
    "\n",
    "Input: 5 -> input.text\n",
    "       23 45 12 56 78\n",
    "Output: -> output.text\n",
    "      5\n",
    "      23 45 12 56 78\n",
    "      Even numbers are: 12 56 78\n",
    "        \n",
    "Input: 3\n",
    "       45 34 6\n",
    "        \n",
    "Just take a break for 10 minutes."
   ]
  },
  {
   "cell_type": "code",
   "execution_count": 92,
   "metadata": {},
   "outputs": [
    {
     "name": "stdout",
     "output_type": "stream",
     "text": [
      "5\n",
      "23\n",
      "45\n",
      "12\n",
      "56\n",
      "78\n"
     ]
    }
   ],
   "source": [
    "with open('Datafiles/input.txt','w') as ft:\n",
    "    m = input()\n",
    "    ft.write(m+\"\\n\")\n",
    "    for k in range(1,int(m)+1):\n",
    "        p = input()\n",
    "        ft.write(p+\" \")"
   ]
  },
  {
   "cell_type": "code",
   "execution_count": 96,
   "metadata": {},
   "outputs": [],
   "source": [
    "with open('Datafiles/input.txt','r') as fg:\n",
    "    k = fg.readlines()\n",
    "    f = k[0].split(\"\\n\")\n",
    "    g = f[0]\n",
    "    se = k[1]\n",
    "    with open('Datafiles/output.text','w') as gh:\n",
    "        cv = k[0]+se+\"\\n\"+\"Even numbers are: \"+\"\"\n",
    "        gh.write(cv)\n",
    "        for ke in k[1].split():\n",
    "            if int(ke)%2==0:\n",
    "                gh.write(ke+\" \")"
   ]
  },
  {
   "cell_type": "markdown",
   "metadata": {},
   "source": [
    "```\n",
    "Task-1:\n",
    "=======\n",
    "Input: 34\n",
    "       45\n",
    "Output:\n",
    "        AP18110010034     AP19110010034\n",
    "        |          |        |       |\n",
    "        |          |        |       |\n",
    "        AP18110010045     AP19110010045\n",
    "Input: 3\n",
    "       20\n",
    "Output:\n",
    "        AP18110010003   AP19110010003\n",
    "           |    |           |    |\n",
    "           |    |           |    |\n",
    "        AP18110010020   AP19110010020\n",
    "\n",
    "\n",
    "Task-2: [functions with files concept]\n",
    "++++++++++++++++++++++++++++++++++++++\n",
    "1.create -> raju ,mobile,mailid -> raju is already exist \n",
    "2.update -> raju 1.Name 2.Mobile 3.mailid\n",
    "3.delete -> kumar\n",
    "4.view -> \n",
    "5.view single person -> Name: Kumar\n",
    "                        Mobilenumber: 3242347234\n",
    "                        Mailid: kumar\n",
    "\n",
    "\n",
    "Output: Contact.txt:\n",
    "    \n",
    "Name          Mobile       mailid\n",
    "Rajesh       7878734562   raju123@yahoo.in\n",
    "kumar        3242347234   kumar\n",
    "\n",
    "```"
   ]
  },
  {
   "cell_type": "code",
   "execution_count": 1,
   "metadata": {},
   "outputs": [
    {
     "name": "stdout",
     "output_type": "stream",
     "text": [
      "6\n",
      "89\n",
      "3\n",
      "digi sol\n",
      "56\n",
      "done\n",
      "[]\n"
     ]
    }
   ],
   "source": [
    "while True:\n",
    "    try:\n",
    "        n = input()\n",
    "    except ValueError:\n",
    "        pass\n",
    "    else:\n",
    "        if n == \"done\":\n",
    "            break"
   ]
  },
  {
   "cell_type": "code",
   "execution_count": null,
   "metadata": {},
   "outputs": [],
   "source": []
  }
 ],
 "metadata": {
  "kernelspec": {
   "display_name": "Python 3",
   "language": "python",
   "name": "python3"
  },
  "language_info": {
   "codemirror_mode": {
    "name": "ipython",
    "version": 3
   },
   "file_extension": ".py",
   "mimetype": "text/x-python",
   "name": "python",
   "nbconvert_exporter": "python",
   "pygments_lexer": "ipython3",
   "version": "3.7.3"
  }
 },
 "nbformat": 4,
 "nbformat_minor": 2
}
