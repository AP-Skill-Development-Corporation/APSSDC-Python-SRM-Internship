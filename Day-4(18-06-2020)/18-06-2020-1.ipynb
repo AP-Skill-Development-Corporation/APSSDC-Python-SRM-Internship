{
 "cells": [
  {
   "cell_type": "markdown",
   "metadata": {},
   "source": [
    "# Iterations,Loops,reptition,control statements: "
   ]
  },
  {
   "cell_type": "markdown",
   "metadata": {},
   "source": [
    "```\n",
    "-> To control the flow of execution\n",
    "\n",
    "-> for - for known values we can use for loop\n",
    "    Syntax:\n",
    "            for variable_name in range():\n",
    "                //stmnt\n",
    "            \n",
    "            -> range(n) -> It starts exactly from 0 and ends upto n-1. It automatically increases +1\n",
    "            Example: range(5)\n",
    "                    0 1 2 3 4\n",
    "            -> range(n,m) -> It starts exactly from n and ends upto m-1. It automatically increases +1\n",
    "            Example: range(10,15)\n",
    "                    10 11 12 13 14\n",
    "            -> range(n,m,s) -> It starts exactly from n and ends from upto m-1 and it increases/decreases it follows the step as s\n",
    "            Exmaple: range(2,10,2)\n",
    "                    2 4 6 8\n",
    "                     range(20,10,-2)\n",
    "                    20 18 16 14 12 \n",
    "            \n",
    "            -> Slicing -> range()\n",
    "-> while - for unknown values we can use while\n",
    "         - works like for \n",
    "```"
   ]
  },
  {
   "cell_type": "markdown",
   "metadata": {},
   "source": [
    "# Jumping Statements:\n",
    "```\n",
    "    -> We are used for skipping,terminating the loop\n",
    "    - continue -> It will skips the value\n",
    "    - break -> It exits from the loop\n",
    "    - pass -> It returns empty[#]\n",
    "    - return -> It return the value from function to main\n",
    "    ```"
   ]
  },
  {
   "cell_type": "markdown",
   "metadata": {},
   "source": [
    "# Inner Loop:\n",
    "\n",
    "    -> Loop within a loop[for inner of while][while inner of for]"
   ]
  },
  {
   "cell_type": "markdown",
   "metadata": {},
   "source": [
    "```\n",
    "step-1\n",
    "01 02 03 04 05 06 07\n",
    "08 09 10 11 12 13 14 \n",
    "15 16 17 18 19 20 21\n",
    "22 23 24 25 26 27 28\n",
    "29 30 31\n",
    "\n",
    "step-2[even => ##]\n",
    "01 ## 03 ## 05 ## 07\n",
    "## 09 ## 11 ## 13 ## \n",
    "15 ## 17 ## 19 ## 21\n",
    "## 23 ## 25 ## 27 ##\n",
    "29 ## 31\n",
    "\n",
    "step-3[multi of 5 [20-30]=> **]\n",
    "01 ## 03 ## 05 ## 07\n",
    "## 09 ## 11 ## 13 ## \n",
    "15 ## 17 ## 19 ## 21\n",
    "## 23 ## ** ## 27 ##\n",
    "29 ## 31\n",
    "\n",
    "step-4[01-10 => []]\n",
    "[] ## [] ## [] ## []\n",
    "## [] ## 11 ## 13 ## \n",
    "15 ## 17 ## 19 ## 21\n",
    "## 23 ## ** ## 27 ##\n",
    "29 ## 31\n",
    "\n",
    "step-5[row => ()]\n",
    "[] ## [] ## [] ## []\n",
    "## [] ## 11 ## 13 ## \n",
    "() () () () () () ()\n",
    "## 23 ## ** ## 27 ##\n",
    "29 ## 31\n",
    "\n",
    "step-6[11-15 => {}]\n",
    "[] ## [] ## [] ## []\n",
    "## [] ## {} ## {} ## \n",
    "() () () () () () ()\n",
    "## 23 ## ** ## 27 ##\n",
    "29 ## 31\n",
    "\n",
    "step-7[22-31 => &&]\n",
    "[] ## [] ## [] ## []\n",
    "## [] ## {} ## {} ## \n",
    "() () () () () () ()\n",
    "## && ## ** ## && ##\n",
    "&& ## &&\n",
    "\n",
    "Step-8[2 -> ||]\n",
    "[] || [] ## [] ## []\n",
    "## || ## {} ## {} ## \n",
    "() || () () () () ()\n",
    "## || ## ** ## && ##\n",
    "&& || &&\n",
    "\n",
    "\n",
    "\n",
    "```"
   ]
  },
  {
   "cell_type": "code",
   "execution_count": 30,
   "metadata": {},
   "outputs": [
    {
     "name": "stdout",
     "output_type": "stream",
     "text": [
      "[] || [] ## [] ## [] \n",
      "## || ## {} ## {} ## \n",
      "() || () () () () () \n",
      "## || ## ** ## && ## \n",
      "&& || && \n"
     ]
    }
   ],
   "source": [
    "a = 1\n",
    "for r in range(1,6):\n",
    "    for c in range(1,8):\n",
    "        if a<=31:\n",
    "            if c == 2:\n",
    "                print(\"{}\".format(\"||\"),end=\" \")\n",
    "            elif r == 3:\n",
    "                print(\"{}\".format(\"()\"),end=\" \")\n",
    "            elif a%2==0:\n",
    "                print(\"{}\".format(\"##\"),end=\" \")\n",
    "            elif a<=10 and a>=1:\n",
    "                if a%2==0:\n",
    "                    print(\"{}\".format(\"##\"),end=\" \")\n",
    "                else:\n",
    "                    print(\"{}\".format(\"[]\"),end=\" \")\n",
    "            elif a>=11 and a<=15:\n",
    "                print(\"{}\".format(\"{}\"),end=\" \")\n",
    "            elif a<=31 and a>=20:\n",
    "                if a%5==0:\n",
    "                    print(\"{}\".format(\"**\"),end=\" \")\n",
    "                else:\n",
    "                    if a<=31 and a>=22:\n",
    "                        print(\"{}\".format(\"&&\"),end=\" \")\n",
    "                    else:\n",
    "                        print(\"{:02}\".format(a),end=\" \")\n",
    "            else:\n",
    "                print(\"{:02}\".format(a),end=\" \")\n",
    "        else:\n",
    "            break\n",
    "        a+=1\n",
    "    print(end=\"\\n\")"
   ]
  },
  {
   "cell_type": "code",
   "execution_count": null,
   "metadata": {},
   "outputs": [],
   "source": []
  }
 ],
 "metadata": {
  "kernelspec": {
   "display_name": "Python 3",
   "language": "python",
   "name": "python3"
  },
  "language_info": {
   "codemirror_mode": {
    "name": "ipython",
    "version": 3
   },
   "file_extension": ".py",
   "mimetype": "text/x-python",
   "name": "python",
   "nbconvert_exporter": "python",
   "pygments_lexer": "ipython3",
   "version": "3.7.3"
  }
 },
 "nbformat": 4,
 "nbformat_minor": 2
}
