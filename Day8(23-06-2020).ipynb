{
 "cells": [
  {
   "cell_type": "markdown",
   "metadata": {},
   "source": [
    "### Good Morning All:"
   ]
  },
  {
   "cell_type": "markdown",
   "metadata": {},
   "source": [
    "### task2\n",
    "#### contact application\n",
    "    - create a function for contact creation\n",
    "        - name,mobile number,emilid\n",
    "    - generate a funtion for view all contacts\n",
    "    - function for edit contacts\n",
    "        - enter name\n",
    "    - function for delete contact\n",
    "        - enter name"
   ]
  },
  {
   "cell_type": "code",
   "execution_count": 4,
   "metadata": {},
   "outputs": [],
   "source": [
    "cont = {}\n",
    "# Create contact\n",
    "def create_contact():\n",
    "    Name = input(\"Enter Name:\")\n",
    "    mobileNo = input(\"Enter mobile no:\")\n",
    "    mailId = input(\"Enter Mail Id\")\n",
    "    cont['name']=Name\n",
    "    cont['mobileno']=mobileNo\n",
    "    cont['mailid']=mailId\n",
    "    return \"Done\"\n",
    "    "
   ]
  },
  {
   "cell_type": "code",
   "execution_count": 5,
   "metadata": {
    "scrolled": true
   },
   "outputs": [
    {
     "name": "stdout",
     "output_type": "stream",
     "text": [
      "Enter Name:abdul\n",
      "Enter mobile no:8956230147\n",
      "Enter Mail Idbaduh@kfdghkdf\n"
     ]
    },
    {
     "data": {
      "text/plain": [
       "'Done'"
      ]
     },
     "execution_count": 5,
     "metadata": {},
     "output_type": "execute_result"
    }
   ],
   "source": [
    "create_contact()"
   ]
  },
  {
   "cell_type": "code",
   "execution_count": 30,
   "metadata": {},
   "outputs": [
    {
     "data": {
      "text/plain": [
       "{'mailid': 'baduh@kfdghkdf', 'mobileno': '8956230147', 'name': 'abdul'}"
      ]
     },
     "execution_count": 30,
     "metadata": {},
     "output_type": "execute_result"
    }
   ],
   "source": [
    "cont"
   ]
  },
  {
   "cell_type": "code",
   "execution_count": 33,
   "metadata": {},
   "outputs": [],
   "source": [
    "def display(li1):\n",
    "    print('Name:',li1['name'])\n",
    "    print('Mobile Number:',li1['mobileno'])"
   ]
  },
  {
   "cell_type": "code",
   "execution_count": 34,
   "metadata": {},
   "outputs": [
    {
     "name": "stdout",
     "output_type": "stream",
     "text": [
      "Name: abdul\n",
      "Mobile Number: 8956230147\n"
     ]
    }
   ],
   "source": [
    "\n",
    "display(cont)"
   ]
  },
  {
   "cell_type": "code",
   "execution_count": 48,
   "metadata": {},
   "outputs": [],
   "source": [
    "def editContact(name,cont):\n",
    "    for rec in cont:\n",
    "        if rec['name']==name:\n",
    "            print(\"hi \",name)\n",
    "            mbno = input(\"Enter ur new mobile no:\")\n",
    "            \n",
    "            rec['name']=mbno\n",
    "            return cont\n",
    "    return \"Contact not existed\""
   ]
  },
  {
   "cell_type": "code",
   "execution_count": 80,
   "metadata": {},
   "outputs": [],
   "source": [
    "cont = [\n",
    "    {'name':'abdul','mobileno':'8956230147'},\n",
    "    {'name':'abdulla','mobileno':'8956230148'},\n",
    "    {'name':'abdul shaik','mobileno':'8956230149'}\n",
    "]\n",
    "#editContact('abdulla',cont)"
   ]
  },
  {
   "cell_type": "code",
   "execution_count": 81,
   "metadata": {},
   "outputs": [],
   "source": [
    "def deleteCont(name,cont):\n",
    "    for rec in cont:\n",
    "        if rec['name']==name:\n",
    "            rec.pop('name')\n",
    "            rec.pop('mobileno')\n",
    "            \n",
    "            return cont\n",
    "    return 'cont not existed'"
   ]
  },
  {
   "cell_type": "code",
   "execution_count": 82,
   "metadata": {},
   "outputs": [
    {
     "data": {
      "text/plain": [
       "[{'mobileno': '8956230147', 'name': 'abdul'},\n",
       " {'mobileno': '8956230148', 'name': 'abdulla'},\n",
       " {}]"
      ]
     },
     "execution_count": 82,
     "metadata": {},
     "output_type": "execute_result"
    }
   ],
   "source": [
    "deleteCont('abdul shaik',cont)"
   ]
  },
  {
   "cell_type": "markdown",
   "metadata": {},
   "source": [
    "## Task1:\n",
    " - input: How many records u want to store:4\n",
    "     --u have to read 4 students info like name,rollno,brach\n",
    "     \n",
    " - output:{\n",
    "     'names':['abdul','ravi','ranga','raja'],\n",
    "     'rollnos':[501,502,503,504],\n",
    "     'branch':['cse','it','cse','ece']\n",
    " \n",
    " }\n",
    " \n",
    " \n",
    "## Task2:\n",
    "\n",
    "   - input:{'abdul':89,'ravi':98,'raja':89,'ranga':99}\n",
    "   - output:\n",
    "       top score is 99\n",
    "       least score is 89\n",
    "       second top is 98\n",
    "       second leat is 89\n",
    "\n",
    "\n",
    " "
   ]
  }
 ],
 "metadata": {
  "kernelspec": {
   "display_name": "Python 3",
   "language": "python",
   "name": "python3"
  },
  "language_info": {
   "codemirror_mode": {
    "name": "ipython",
    "version": 3
   },
   "file_extension": ".py",
   "mimetype": "text/x-python",
   "name": "python",
   "nbconvert_exporter": "python",
   "pygments_lexer": "ipython3",
   "version": "3.6.4"
  }
 },
 "nbformat": 4,
 "nbformat_minor": 2
}
